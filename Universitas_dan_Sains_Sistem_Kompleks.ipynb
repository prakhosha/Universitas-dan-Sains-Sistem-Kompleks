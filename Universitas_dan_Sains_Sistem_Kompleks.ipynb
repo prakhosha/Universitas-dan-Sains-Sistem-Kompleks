{
 "cells": [
  {
   "cell_type": "markdown",
   "metadata": {
    "id": "4tW2lOi7QSS4"
   },
   "source": [
    "Sarjana, sebuah gelar bergengsi di Indonesia. Sejak konsepsi awal negara Indonesia, pemilik gelar sarjana memiliki andil yang penting dalam pembentukan budaya bangsa. Sumpah pemuda, peristiwa Rengasdengklok, peristiwa 1965, hingga reformasi. Mereka inilah cendekiawan Indonesia. Bahkan istilah sarjana sudah ada semenjak Indonesia masih berupa kerajaan-kerajaan Hindu-Buddha. Pada saat itu pemegang gelar sarjana merupakan individu yang berpengetahuan luas dan mendalam dalam berbagai bidang, baik secara teknis seperti sains dan hukum, hingga filosofis."
   ]
  },
  {
   "cell_type": "markdown",
   "metadata": {
    "id": "byHc0RMaQWGS"
   },
   "source": [
    "Akan tetapi, nilai-nilai cendekiawan ini mulai memudar seiring dengan bertambahnya usia Indonesia. Hemat penulis, dari semenjak penulis berkuliah, adanya narasi “materi yang diajarkan ketika kuliah tidak terpakai ketika bekerja” menunjukkan kesenjangan antara cendekiawan kita dengan nilai yang relevan di kehidupan bangsa. Sebagian orang memaklumi hal ini dan membentuk narasi lain bahwa “dalam program sarjana yang diajarkan adalah cara berpikir”. Menurut penulis, hal ini tidak bisa dibenarkan karena artinya universitas tidak mampu lagi untuk memenuhi kepentingan nasional seperti yang tertera pada UU No. 12 tahun 2012 tentang pendidikan tinggi Pasal 5 poin B."
   ]
  },
  {
   "cell_type": "markdown",
   "metadata": {
    "id": "PXGpEErpQY1C"
   },
   "source": [
    "Penasaran dengan hal ini, penulis melakukan analisis kepuasaan belajar melalui tracer study Institut Teknologi Bandung (ITB) tahun 2020-2022. Hal utama yang menjadi fokus analisis adalah ketidaksesuaian kuliah dengan pekerjaan. Terlihat adanya kenaikan ketidaksesuain kuliah dengan pekerjaan dari tahun 2020 sebesar 35% hingga 2022 sebesar 40%. Angka korelasi pearson sebesar 0.98 menunjukkan adanya indikasi kenaikan yang sistematik. Hal ini jelas menunjukkan adanya kesenjangan pendidikan tinggi dengan kenyataan saat bekerja di ITB."
   ]
  },
  {
   "cell_type": "markdown",
   "metadata": {
    "id": "-E4RmKHuQb5b"
   },
   "source": [
    "## Pendidikan, Penelitian, dan Universitas"
   ]
  },
  {
   "cell_type": "markdown",
   "metadata": {
    "id": "R92zqwVOQmvX"
   },
   "source": [
    "Apa yang sebenarnya terjadi dengan pendidikan tinggi di Indonesia? Untuk menjawab hal ini, diperlukan alur berpikir substantif. Alur berpikir ini dimulai dari menjawab tujuan dari universitas di dunia dari awal terbentuknya. Jose Ortega, dalam Mission of The University menjelaskan, pada awalnya universitas terbentuk sebagai penawaran untuk memenuhi permintaan akan pengetahuan, the economy of university. Penawaran ini timbul karena adanya kelangkaan kapasitas untuk belajar. Jika manusia tidak memiliki keterbatasan usia, atau jika manusia memiliki intelegensi yang tak terbatas, pendidikan tidak akan lahir. Pendidikan diperlukan agar manusia dapat hidup dengan tenang. Pendidikan ada untuk menyadarkan manusia untuk mengerti dimana dan kapan mereka hidup."
   ]
  },
  {
   "cell_type": "markdown",
   "metadata": {
    "id": "a94sYwDZQqw0"
   },
   "source": [
    "Alasan permintaan-penawaran ini juga diperkuat dengan berkembang pesatnya ilmu pengetahuan pada revolusi industri. Hal ini dikarenakan pada masa itu terjadi lompatan pengetahuan yang harus dikuasai manusia agar mereka dapat hidup dengan tenang, lompatan pengetahuan itu adalah sains. Pada awal pembentukannya, universitas pengajar universitas bukan saintis, karena sains tidak termasuk pengetahuan yang harus dikuasai pada masa itu. Pengajar pada masa itu bisa dibilang seperti biksu dan pendeta, karena pengetahuan yang diajarkan mereka penting dalam kehidupan saat itu. Inkorporasi sains dalam universitas inilah yang menjadikan pendidikan dan penelitian sebagai dua nilai yang sangat erat di lembaga ini."
   ]
  },
  {
   "cell_type": "markdown",
   "metadata": {
    "id": "V6lczJj2QrsI"
   },
   "source": [
    "## Reduksionisme"
   ]
  },
  {
   "cell_type": "markdown",
   "metadata": {
    "id": "EmDKoryFQttz"
   },
   "source": [
    "Sains adalah salah satu bentuk budaya tertinggi yang pernah diciptakan manusia. Budaya ini merupakan suatu proses investigasi atau cara pandang pemecahan masalah. Sampai saat ini, reduksionisme, pemecahan sistem kompleks menjadi sistem yang lebih mudah untuk dipelajari, menjadi cara pandang utama yang diadopsi sains. Cara pandang yang dipelopori oleh Descartes ini sudah banyak memberikan hal positif untuk manusia. Untuk menjelaskan adanya perbedaan spesies, kita mereduksi sistem spesies menjadi DNA. Untuk memanfaatkan fenomena kelistrikan, kita mereduksi materi menjadi elektron. Untuk memanfaatkan mesin uap, kita mereduksi temperatur menjadi energi kinetik molekul."
   ]
  },
  {
   "cell_type": "markdown",
   "metadata": {
    "id": "MGYQG6GhQwBf"
   },
   "source": [
    "Permasalahan terjadi ketika proses investigasi ini hanya didominasi oleh satu paradigma. Sains bukan proses investigasi dengan memotong-motong permasalahan besar menjadi kecil. Sains, secara hakikat, adalah proses investigasi dengan menjunjung nilai kebenaran. Ketika dunia hanya mengadopsi cara pandang reduksionisme dalam sains, yang terjadi selanjutnya adalah spesialisasi. Universitas-pun sebagai penyedia proses pendidikan mengadopsi reduksionisme. Ketika reduksionisme menjadi cara pandang yang dominan, penelitian yang terjadi akan tereduksi, terkotak-kotakan, dan terspesialisasi. Penelitian yang terspesialisasi akan mengamplifikasi dunia yang terspesialisasi. Terjadilah pembludakan pengetahuan terspesialisasi yang harus dimiliki hanya agar manusia hidup dengan tenang."
   ]
  },
  {
   "cell_type": "markdown",
   "metadata": {
    "id": "WkM7WFKUQydS"
   },
   "source": [
    "Agar dapat hidup dengan tenang, Indonesia mau tidak mau harus mengejar pengetahuan dunia yang terspesialisasi dan melimpah. Inilah yang terjadi di Indonesia. Sering kali pengejaran yang dilakukan tidak memandang nilai profesional yang dipegang masyarakat pada saat itu. Terjadilah narasi materi saat kuliah tidak terpakai saat bekerja. Hal ini diperparah dengan kenyataan bahwa permasalahan dunia itu tidak linier, tidak teratur, dan stokastik. Reduksionisme gagal digunakan dalam pemecahan masalah-masalah ini. Akibatnya, lulusan-lulusan perguruan tinggi yang sudah dibekali cara pandang reduksionisme sering kali tidak tahu cara untuk mengaplikasikan pengetahuan terspesialisasi mereka di kehidupan nyata. Mereka tidak mengerti dimana dan kapan mereka hidup dikarenakan universitas tidak mengerti dimana dan kapan dirinya berdiri."
   ]
  },
  {
   "cell_type": "markdown",
   "metadata": {
    "id": "Es6VNyNEQ1O9"
   },
   "source": [
    "## Sains Sistem Kompleks"
   ]
  },
  {
   "cell_type": "markdown",
   "metadata": {
    "id": "ErG8i5Y8Q3MV"
   },
   "source": [
    "Salah satu solusi yang dapat dilakukan adalah membangun jembatan untuk menggabungkan keilmuan yang terspesialisasi ini. Jembatan ini melakukan investigasi tanpa memecah sistem menjadi sistem yang lebih kecil melainkan melihat mempertimbangkan hubungan antar sistem. Jembatan ini merupakan suatu paradigma bernama sains sistem kompleks. Tulis Gershenson, ketika sistem saling berinteraksi, dihasilkan fenomena emergent dimana pendekatan reduksionisme tidak dapat digunakan karena interaksi tidak dapat direduksi. Satu sel saraf otak, misalnya, dapat dimodelkan dengan model kapasitor pada rangkaian listrik. Ketika jutaan sel saraf otak saling berinteraksi, dihasilkan berbagai macam sinyal otak yang berkorespondensi dengan intensi subjek. Ajaib sekali ketika kognisi manusia dapat dimodelkan dengan jaringan sel saraf yang saling berinteraksi. Model interaksi sel saraf ini tidak hanya sebatas omong kosong intelektual saja. Model ini telah mengakibatkan disrupsi teknologi dalam dua dekade ini dengan istilah kerennya kecerdasan buatan. Dan nampaknya disrupsi akibat kecerdasan buatan akan terus berlanjut."
   ]
  },
  {
   "cell_type": "markdown",
   "metadata": {
    "id": "NaTJANrEQ5mx"
   },
   "source": [
    "Model kecerdasan buatan hanyalah satu model yang terlahir dari paradigma sains sistem kompleks. Automata selular memodelkan agen-agen yang saling berinteraksi menghasilkan fenomena makro. Model ini sudah sering digunakan seperti dalam memodelkan infeksi penyakit, kemacetan dalam kota, hingga kebakaran hutan. Turunan model dinamika seperti *stochastic dynamical system* dan *chaotic dynamical system* juga dapat digunakan dalam pemodelan cuaca dan sistem stokastik. Dan mungkin masih ada banyak model lagi yang bisa kita jelajah."
   ]
  },
  {
   "cell_type": "markdown",
   "metadata": {
    "id": "oTcjRZkKRMbZ"
   },
   "source": [
    "Sebagai tantangan, sains sistem kompleks adalah paradigma yang dapat menimbulkan disrupsi teknologi. Kita sudah melihat apa yang kecerdasan buatan lakukan. Masih banyak lagi teknologi-teknologi yang dapat menjadi tantangan untuk Indonesia. Sebisa mungkin, Indonesia harus mempersiapkan diri menghadapi tantangan ini. Disi lain, Indonesia dapat memanfaatkan potensi yang ada dalam sains sistem kompleks. Dari kecerdasan buatan, automata selular,  *stochastic dynamical system*, hingga *chaotic dynamical system*."
   ]
  },
  {
   "cell_type": "markdown",
   "metadata": {
    "id": "0eFKjfzFRQxO"
   },
   "source": [
    "## Konklusi"
   ]
  },
  {
   "cell_type": "markdown",
   "metadata": {
    "id": "C-hubHooRTvT"
   },
   "source": [
    "Paradigma sains sistem kompleks dapat dipertimbanglan sebagai solusi permasalahan profesionalitas di Indonesia. Dengan tidak dihilangkannya interaksi antar sistem dalam model, seseorang akan mengerti interaksi satu bidang dengan yang lain. Si ekonom mengerti si penjaga lingkungan dalam polemik industri dan lingkungan. Si insinyur mengerti si medis dalam penyembuhan pasien. Si peneliti, si guru, dan universitas saling mengerti dalam pelaksanaan tri dharma perguruan tinggi. Ketika semua sudah saling terkoneksi, sudah tidak ada istilah “si”. Yang tersisa adalah manusia yang sadar dimana dan kapan dia hidup."
   ]
  },
  {
   "cell_type": "markdown",
   "metadata": {
    "id": "VQ1fHU7AWuGF"
   },
   "source": [
    "## Referensi"
   ]
  },
  {
   "cell_type": "markdown",
   "metadata": {
    "id": "SFN5Aw-hWwZo"
   },
   "source": [
    "- Kementrian Pendidikan, Kebudayaan, Riset, dan Teknologi Republik Indonesia. Jejak Sejarah di Balik Kata “Sarjana”. 2023. https://itjen.kemdikbud.go.id/web/jejak-sejarah-di-balik-kata-sarjana/#:~:text=Kata%20%E2%80%9Csarjana%E2%80%9D%20berasal%20dari%20bahasa,seorang%20guru%20atau%20pemimpin%20spiritual.\n",
    "\n",
    "- Tracer Study Institut Teknologi Bandung 2020-2022. https://tracer.itb.ac.id/id/report/index\n",
    "\n",
    "- Analisis Kesesuaian Kuliah dan Bekerja Tracer Study ITB 2020-2022. https://github.com/prakhosha/Tracer-Study-ITB-2020-2022-Kesesuaian-kuliah-dan-pekerjaan-dalam-bekerja-/tree/main\n",
    "\n",
    "- Jose Ortega, Mission of The University. 1930.\n",
    "\n",
    "- Carlos Gershenson, The Implications of Interactions\n",
    "for Science and Philosophy. 2011. https://arxiv.org/pdf/1105.2827.pdf"
   ]
  }
 ],
 "metadata": {
  "colab": {
   "provenance": []
  },
  "kernelspec": {
   "display_name": "Python 3 (ipykernel)",
   "language": "python",
   "name": "python3"
  },
  "language_info": {
   "codemirror_mode": {
    "name": "ipython",
    "version": 3
   },
   "file_extension": ".py",
   "mimetype": "text/x-python",
   "name": "python",
   "nbconvert_exporter": "python",
   "pygments_lexer": "ipython3",
   "version": "3.11.5"
  }
 },
 "nbformat": 4,
 "nbformat_minor": 1
}
